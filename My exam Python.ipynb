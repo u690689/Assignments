{
 "cells": [
  {
   "cell_type": "markdown",
   "metadata": {},
   "source": [
    "Before you turn this problem in, make sure everything runs as expected. First, **restart the kernel** (in the menubar, select Kernel$\\rightarrow$Restart) and then **run all cells** (in the menubar, select Cell$\\rightarrow$Run All).\n",
    "\n",
    "Make sure you fill in any place that says `YOUR CODE HERE` or \"YOUR ANSWER HERE\", as well as your name and collaborators below:"
   ]
  },
  {
   "cell_type": "code",
   "execution_count": 1,
   "metadata": {},
   "outputs": [],
   "source": [
    "NAME = \"Viktorija Karaliute, student number: u1277774, ANR: 690689\"\n",
    "COLLABORATORS = \"\""
   ]
  },
  {
   "cell_type": "markdown",
   "metadata": {},
   "source": [
    "---"
   ]
  },
  {
   "cell_type": "markdown",
   "metadata": {
    "deletable": false,
    "editable": false,
    "nbgrader": {
     "checksum": "e53eb7da4b90cccdbeb5924177a0d295",
     "grade": false,
     "grade_id": "cell-bace731f185b39bb",
     "locked": true,
     "schema_version": 1,
     "solution": false
    }
   },
   "source": [
    "Fill in the cell above to provide us with your name and student number, like\n",
    "\n",
    "NAME = \"Adam Smith, #student number#\"\n",
    "\n",
    "where you replace \"#student number#\" with your ... (very good!)\n",
    "\n",
    "Unfortunately, you are not allowed to work with \"COLLABORATORS\" in this exam."
   ]
  },
  {
   "cell_type": "markdown",
   "metadata": {
    "deletable": false,
    "editable": false,
    "nbgrader": {
     "checksum": "54f2a7cc5a4285f9082c5f4f2ff532f6",
     "grade": false,
     "grade_id": "cell-895e9a7b94992ec9",
     "locked": true,
     "schema_version": 1,
     "solution": false
    }
   },
   "source": [
    "# exam September 21st, 2018\n",
    "\n",
    "With this python part of the exam you can earn at max. 4 points.\n",
    "\n"
   ]
  },
  {
   "cell_type": "markdown",
   "metadata": {
    "deletable": false,
    "editable": false,
    "nbgrader": {
     "checksum": "611902f9d15318425217ea7c9329d3c4",
     "grade": false,
     "grade_id": "cell-540987818af25557",
     "locked": true,
     "schema_version": 1,
     "solution": false
    }
   },
   "source": [
    "\n",
    "In the first cell of the notebook, give us your name and student number in the way indicated above. \n",
    "\n",
    "Fill in the notebook (see below for code cells and text cells that you need to fill in).\n",
    "\n",
    "If you look at the menus above (File, Edit, View etc.), there is one called \"Cell\". If you click on this, you can change the \"Cell Type\". Choose \"Code\" when you are typing python or R code. Choose \"Markdown\" when you are typing, well, markdown.\n",
    "\n",
    "When you finish the notebook, make sure that you **save it with the output of your code included**. \n",
    "\n",
    "Then put it on github, e.g. by dragging it onto github (see instructions below). \n",
    "\n",
    "Finally, add a link to your README file with the name of this exam: \"Exam September 21, 2018\".\n",
    "\n"
   ]
  },
  {
   "cell_type": "markdown",
   "metadata": {
    "deletable": false,
    "editable": false,
    "nbgrader": {
     "checksum": "fbb9342b1fc9100447270d34e2af2d0b",
     "grade": false,
     "grade_id": "cell-e1cf88cb799f1f43",
     "locked": true,
     "schema_version": 1,
     "solution": false
    }
   },
   "source": [
    "## Generating and plotting data\n",
    "\n",
    "We start by importing the usual libraries."
   ]
  },
  {
   "cell_type": "code",
   "execution_count": 14,
   "metadata": {
    "deletable": false,
    "editable": false,
    "nbgrader": {
     "checksum": "7bd770ef54db47c3b6c8d0e31f6baef6",
     "grade": false,
     "grade_id": "cell-b895769bf40e183a",
     "locked": true,
     "schema_version": 1,
     "solution": false
    }
   },
   "outputs": [],
   "source": [
    "import matplotlib.pyplot as plt\n",
    "import pandas as pd\n",
    "import numpy as np\n",
    "from scipy import optimize\n",
    "%matplotlib inline"
   ]
  },
  {
   "cell_type": "markdown",
   "metadata": {
    "deletable": false,
    "editable": false,
    "nbgrader": {
     "checksum": "1133b2e8cbde213d1adfe10ae743bcb3",
     "grade": false,
     "grade_id": "cell-83284c4090d6de8c",
     "locked": true,
     "schema_version": 1,
     "solution": false
    }
   },
   "source": [
    "#### a) [0.5 point] Explain in words what the following code does. "
   ]
  },
  {
   "cell_type": "code",
   "execution_count": 15,
   "metadata": {
    "deletable": false,
    "editable": false,
    "nbgrader": {
     "checksum": "bc85672d4250f9fa3da40069544edd8a",
     "grade": false,
     "grade_id": "cell-7770128c0a989c60",
     "locked": true,
     "schema_version": 1,
     "solution": false
    }
   },
   "outputs": [],
   "source": [
    "n_observations = 100\n",
    "x = np.random.uniform(0,2,size=n_observations)\n",
    "df = pd.DataFrame({'x': x})"
   ]
  },
  {
   "cell_type": "code",
   "execution_count": 16,
   "metadata": {
    "deletable": false,
    "nbgrader": {
     "checksum": "cae5873581f8c1e95ad12b5596742e37",
     "grade": true,
     "grade_id": "cell-8a5761555a34b60b",
     "locked": false,
     "points": 0.5,
     "schema_version": 1,
     "solution": true
    }
   },
   "outputs": [],
   "source": [
    "#np.random.uniform represents randomly drawn numbers from uniform distribution with size of 100 observations and parameters 0 and 2\n",
    "#pd.Dataframe creates a two-dimensional data structure "
   ]
  },
  {
   "cell_type": "code",
   "execution_count": 17,
   "metadata": {},
   "outputs": [
    {
     "name": "stdout",
     "output_type": "stream",
     "text": [
      "           x\n",
      "0   0.166601\n",
      "1   0.826492\n",
      "2   0.859358\n",
      "3   0.990880\n",
      "4   1.739881\n",
      "5   0.020868\n",
      "6   1.646212\n",
      "7   1.764830\n",
      "8   1.537769\n",
      "9   0.938467\n",
      "10  0.556127\n",
      "11  0.445209\n",
      "12  0.848987\n",
      "13  0.997216\n",
      "14  0.313132\n",
      "15  1.687091\n",
      "16  0.252099\n",
      "17  1.358389\n",
      "18  1.633271\n",
      "19  1.650429\n",
      "20  1.787433\n",
      "21  1.970945\n",
      "22  0.937185\n",
      "23  1.687641\n",
      "24  0.085940\n",
      "25  1.259156\n",
      "26  1.043055\n",
      "27  1.451498\n",
      "28  0.045066\n",
      "29  1.829794\n",
      "..       ...\n",
      "70  0.657445\n",
      "71  1.579064\n",
      "72  1.111673\n",
      "73  0.155469\n",
      "74  1.856741\n",
      "75  0.214955\n",
      "76  0.013132\n",
      "77  0.339323\n",
      "78  0.270344\n",
      "79  1.067901\n",
      "80  0.829638\n",
      "81  0.045538\n",
      "82  0.414257\n",
      "83  0.407952\n",
      "84  0.147062\n",
      "85  0.554934\n",
      "86  1.585639\n",
      "87  1.096711\n",
      "88  1.498530\n",
      "89  1.109341\n",
      "90  1.917416\n",
      "91  1.437782\n",
      "92  0.499750\n",
      "93  1.310684\n",
      "94  0.282249\n",
      "95  1.813232\n",
      "96  1.847227\n",
      "97  1.137296\n",
      "98  1.842448\n",
      "99  0.107278\n",
      "\n",
      "[100 rows x 1 columns]\n"
     ]
    }
   ],
   "source": [
    "print(df)"
   ]
  },
  {
   "cell_type": "markdown",
   "metadata": {
    "deletable": false,
    "editable": false,
    "nbgrader": {
     "checksum": "30021008cb6073d160066f0435f60950",
     "grade": false,
     "grade_id": "cell-1a9c57d4d1fc34dc",
     "locked": true,
     "schema_version": 1,
     "solution": false
    }
   },
   "source": [
    "Now we are going to add some columns to the dataframe `df`."
   ]
  },
  {
   "cell_type": "markdown",
   "metadata": {
    "deletable": false,
    "editable": false,
    "nbgrader": {
     "checksum": "89171c99b0cc926935c561c0e75d0eef",
     "grade": false,
     "grade_id": "cell-3b8ee172d9950128",
     "locked": true,
     "schema_version": 1,
     "solution": false
    }
   },
   "source": [
    "#### b) [0.5 points] Add two columns to the data frame: (i) column `y` where $y=3*x+5$ and (ii) column `z` where $z = (x-1)^2$."
   ]
  },
  {
   "cell_type": "code",
   "execution_count": 18,
   "metadata": {
    "deletable": false,
    "nbgrader": {
     "checksum": "3b93c97ec42f6da5773b2c6beb2a8ec2",
     "grade": true,
     "grade_id": "cell-a5e7853f661e19b2",
     "locked": false,
     "points": 0.5,
     "schema_version": 1,
     "solution": true
    }
   },
   "outputs": [
    {
     "name": "stdout",
     "output_type": "stream",
     "text": [
      "           x          y         z\n",
      "0   0.166601   5.499802  0.694554\n",
      "1   0.826492   7.479476  0.030105\n",
      "2   0.859358   7.578075  0.019780\n",
      "3   0.990880   7.972640  0.000083\n",
      "4   1.739881  10.219643  0.547424\n",
      "5   0.020868   5.062604  0.958700\n",
      "6   1.646212   9.938636  0.417590\n",
      "7   1.764830  10.294489  0.584964\n",
      "8   1.537769   9.613307  0.289195\n",
      "9   0.938467   7.815402  0.003786\n",
      "10  0.556127   6.668380  0.197024\n",
      "11  0.445209   6.335628  0.307793\n",
      "12  0.848987   7.546960  0.022805\n",
      "13  0.997216   7.991648  0.000008\n",
      "14  0.313132   5.939396  0.471788\n",
      "15  1.687091  10.061272  0.472094\n",
      "16  0.252099   5.756298  0.559356\n",
      "17  1.358389   9.075168  0.128443\n",
      "18  1.633271   9.899814  0.401033\n",
      "19  1.650429   9.951288  0.423058\n",
      "20  1.787433  10.362299  0.620051\n",
      "21  1.970945  10.912835  0.942734\n",
      "22  0.937185   7.811556  0.003946\n",
      "23  1.687641  10.062922  0.472850\n",
      "24  0.085940   5.257821  0.835505\n",
      "25  1.259156   8.777467  0.067162\n",
      "26  1.043055   8.129166  0.001854\n",
      "27  1.451498   9.354495  0.203851\n",
      "28  0.045066   5.135197  0.911900\n",
      "29  1.829794  10.489383  0.688559\n",
      "..       ...        ...       ...\n",
      "70  0.657445   6.972334  0.117344\n",
      "71  1.579064   9.737191  0.335315\n",
      "72  1.111673   8.335020  0.012471\n",
      "73  0.155469   5.466407  0.713233\n",
      "74  1.856741  10.570224  0.734006\n",
      "75  0.214955   5.644866  0.616295\n",
      "76  0.013132   5.039397  0.973908\n",
      "77  0.339323   6.017969  0.436494\n",
      "78  0.270344   5.811033  0.532397\n",
      "79  1.067901   8.203704  0.004611\n",
      "80  0.829638   7.488913  0.029023\n",
      "81  0.045538   5.136615  0.910997\n",
      "82  0.414257   6.242772  0.343094\n",
      "83  0.407952   6.223856  0.350521\n",
      "84  0.147062   5.441187  0.727503\n",
      "85  0.554934   6.664802  0.198084\n",
      "86  1.585639   9.756916  0.342973\n",
      "87  1.096711   8.290133  0.009353\n",
      "88  1.498530   9.495590  0.248532\n",
      "89  1.109341   8.328023  0.011955\n",
      "90  1.917416  10.752247  0.841651\n",
      "91  1.437782   9.313346  0.191653\n",
      "92  0.499750   6.499249  0.250250\n",
      "93  1.310684   8.932052  0.096524\n",
      "94  0.282249   5.846747  0.515167\n",
      "95  1.813232  10.439696  0.661346\n",
      "96  1.847227  10.541681  0.717794\n",
      "97  1.137296   8.411889  0.018850\n",
      "98  1.842448  10.527343  0.709718\n",
      "99  0.107278   5.321833  0.796953\n",
      "\n",
      "[100 rows x 3 columns]\n"
     ]
    }
   ],
   "source": [
    "y_column = 3*x + 5\n",
    "\n",
    "z_column = (x-1)**2\n",
    "\n",
    "df['y'] = y_column\n",
    "df['z'] = z_column\n",
    "print(df)"
   ]
  },
  {
   "cell_type": "markdown",
   "metadata": {
    "deletable": false,
    "editable": false,
    "nbgrader": {
     "checksum": "42f4e83dc3792b0d2a08cda8eb7d4405",
     "grade": false,
     "grade_id": "cell-4b33762aa4a601fe",
     "locked": true,
     "schema_version": 1,
     "solution": false
    }
   },
   "source": [
    "#### c) [0.5 point] Calculate the means and standard deviations for `x` and `y`. \n",
    "\n",
    "[hint: you can do this with one command or with four separate commands]"
   ]
  },
  {
   "cell_type": "code",
   "execution_count": 19,
   "metadata": {
    "deletable": false,
    "nbgrader": {
     "checksum": "024a1519155d681b57c85292df535a65",
     "grade": true,
     "grade_id": "cell-5ee215676b91f504",
     "locked": false,
     "points": 0.5,
     "schema_version": 1,
     "solution": true
    }
   },
   "outputs": [
    {
     "data": {
      "text/plain": [
       "x    1.021134\n",
       "y    8.063401\n",
       "z    0.366129\n",
       "dtype: float64"
      ]
     },
     "execution_count": 19,
     "metadata": {},
     "output_type": "execute_result"
    }
   ],
   "source": [
    "df.mean() #means of variables "
   ]
  },
  {
   "cell_type": "code",
   "execution_count": 20,
   "metadata": {},
   "outputs": [
    {
     "data": {
      "text/plain": [
       "x    0.607763\n",
       "y    1.823289\n",
       "z    0.304819\n",
       "dtype: float64"
      ]
     },
     "execution_count": 20,
     "metadata": {},
     "output_type": "execute_result"
    }
   ],
   "source": [
    "df.std() #standard deviations of variables"
   ]
  },
  {
   "cell_type": "markdown",
   "metadata": {
    "deletable": false,
    "editable": false,
    "nbgrader": {
     "checksum": "12a2717f05680c0404067457f21dacc5",
     "grade": false,
     "grade_id": "cell-3cc076ae39753881",
     "locked": true,
     "schema_version": 1,
     "solution": false
    }
   },
   "source": [
    "#### d) [0.5 points] Use your knowledge of statistics to explain the relations (i) between the means of `x` and `y` and (ii) between the standard deviations of `x` and `y`."
   ]
  },
  {
   "cell_type": "code",
   "execution_count": 21,
   "metadata": {
    "deletable": false,
    "nbgrader": {
     "checksum": "6ac5f7f87f79a5a580298b70eb6603c6",
     "grade": true,
     "grade_id": "cell-0f18e4fded25833f",
     "locked": false,
     "points": 0.5,
     "schema_version": 1,
     "solution": true
    }
   },
   "outputs": [
    {
     "ename": "NotImplementedError",
     "evalue": "",
     "output_type": "error",
     "traceback": [
      "\u001b[1;31m---------------------------------------------------------------------------\u001b[0m",
      "\u001b[1;31mNotImplementedError\u001b[0m                       Traceback (most recent call last)",
      "\u001b[1;32m<ipython-input-21-15b94d1fa268>\u001b[0m in \u001b[0;36m<module>\u001b[1;34m()\u001b[0m\n\u001b[0;32m      1\u001b[0m \u001b[1;31m# YOUR CODE HERE\u001b[0m\u001b[1;33m\u001b[0m\u001b[1;33m\u001b[0m\u001b[0m\n\u001b[1;32m----> 2\u001b[1;33m \u001b[1;32mraise\u001b[0m \u001b[0mNotImplementedError\u001b[0m\u001b[1;33m(\u001b[0m\u001b[1;33m)\u001b[0m\u001b[1;33m\u001b[0m\u001b[0m\n\u001b[0m",
      "\u001b[1;31mNotImplementedError\u001b[0m: "
     ]
    }
   ],
   "source": [
    "# YOUR CODE HERE\n",
    "raise NotImplementedError()"
   ]
  },
  {
   "cell_type": "markdown",
   "metadata": {},
   "source": [
    "#### e) [1 point] Plot a histogram of `x` with fractions (not absolute numbers) on the vertical axis. Add the label $x$ to the horizontal axis."
   ]
  },
  {
   "cell_type": "code",
   "execution_count": 22,
   "metadata": {
    "deletable": false,
    "nbgrader": {
     "checksum": "0f23770a6c058f433beccc75429b57dc",
     "grade": true,
     "grade_id": "cell-e88dc4842fb2c38c",
     "locked": false,
     "points": 1,
     "schema_version": 1,
     "solution": true
    }
   },
   "outputs": [
    {
     "data": {
      "image/png": "[encoded data removed]",
      "text/plain": [
       "<matplotlib.figure.Figure at 0x3fa18e1400>"
      ]
     },
     "metadata": {},
     "output_type": "display_data"
    }
   ],
   "source": [
    "plt.hist(x/np.sum(x), orientation='horizontal')\n",
    "plt.xlabel('x')\n",
    "plt.ylabel('fractions')\n",
    "plt.show()"
   ]
  },
  {
   "cell_type": "markdown",
   "metadata": {
    "deletable": false,
    "editable": false,
    "nbgrader": {
     "checksum": "da92092c0fc6badf93776373de6f98c0",
     "grade": false,
     "grade_id": "cell-9847a5147fc6bc0b",
     "locked": true,
     "schema_version": 1,
     "solution": false
    }
   },
   "source": [
    "#### f) [0.5 points] Make a scatter plot of `y` vs `z` with the label $y$ on the horizontal axis and the label $z$ on the vertical axis."
   ]
  },
  {
   "cell_type": "code",
   "execution_count": 24,
   "metadata": {
    "deletable": false,
    "nbgrader": {
     "checksum": "d9385c965608e0babffe255a7d375e19",
     "grade": true,
     "grade_id": "cell-6c036cfb38c024d3",
     "locked": false,
     "points": 0.5,
     "schema_version": 1,
     "solution": true
    }
   },
   "outputs": [
    {
     "data": {
      "image/png": "[encoded data removed]",
      "text/plain": [
       "<matplotlib.figure.Figure at 0x3fa1bbc748>"
      ]
     },
     "metadata": {},
     "output_type": "display_data"
    }
   ],
   "source": [
    "plt.scatter(y_column, z_column)\n",
    "plt.xlabel('y')\n",
    "plt.ylabel('z')\n",
    "plt.show()"
   ]
  },
  {
   "cell_type": "markdown",
   "metadata": {},
   "source": [
    "This relation looks rather \"perfect\". We want to make a \"noisy\" version of this graph.\n",
    "\n",
    "#### g) [0.5 points] Create a variable `z2` equal to `z` but with some \"noise\" added to it. That is, add a random variable (vector) with mean 0 to `z` to get `z2`. Then plot `y` against `z2`. Adjust the standard deviation of the \"noise\" variable such that the shape of the figure under f) can still be recognized but not perfectly.\n",
    "\n",
    "[hint: under a) you have seen the library that contains functions to create a \"noisy variable\"]"
   ]
  },
  {
   "cell_type": "code",
   "execution_count": 26,
   "metadata": {
    "deletable": false,
    "nbgrader": {
     "checksum": "86b22fc81cb0732c67f8ae691dc00bcb",
     "grade": true,
     "grade_id": "cell-7fa47e5d66a06417",
     "locked": false,
     "points": 0.5,
     "schema_version": 1,
     "solution": true
    }
   },
   "outputs": [
    {
     "name": "stdout",
     "output_type": "stream",
     "text": [
      "[2.600971   1.93652169 1.92619671 1.90649979 2.45384064 2.86511636\n",
      " 2.32400643 2.49138094 2.19561211 1.9102029  2.10344013 2.21420942\n",
      " 1.92922169 1.90642437 2.37820432 2.37851037 2.46577227 2.03485959\n",
      " 2.30744912 2.32947487 2.52646723 2.84915082 1.9103623  2.37926613\n",
      " 2.74192178 1.97357829 1.90827038 2.11026746 2.81831615 2.59497517\n",
      " 1.93808348 2.35426286 2.70263202 1.91301035 2.40269336 2.3375769\n",
      " 2.54438098 2.04683475 2.5706364  1.94331508 2.53755975 2.58502432\n",
      " 1.92416178 2.14602263 2.09957749 2.43053755 2.24356068 1.96333058\n",
      " 2.80466706 2.00143423 2.69369911 1.90761974 2.01348444 1.91613133\n",
      " 2.26503226 2.04724846 1.97727252 1.92905831 2.47272224 1.97683402\n",
      " 2.11420186 2.36957583 2.06752899 2.04622196 1.99235077 2.55244404\n",
      " 2.76782964 1.91764722 2.71645127 1.91085382 2.02376085 2.24173117\n",
      " 1.91888753 2.61964948 2.64042218 2.5227118  2.88032447 2.34291091\n",
      " 2.43881392 1.91102722 1.93543988 2.8174137  2.24951108 2.25693731\n",
      " 2.63391953 2.10450048 2.24938934 1.91576964 2.15494876 1.91837205\n",
      " 2.74806782 2.09806977 2.1566671  2.00294107 2.42158328 2.56776285\n",
      " 2.62421029 1.92526689 2.61613491 2.70336985]\n"
     ]
    }
   ],
   "source": [
    "z2 = z_column+np.random.normal()\n",
    "print(z2)"
   ]
  },
  {
   "cell_type": "code",
   "execution_count": 28,
   "metadata": {},
   "outputs": [
    {
     "data": {
      "image/png": "[encoded data removed]",
      "text/plain": [
       "<matplotlib.figure.Figure at 0x3fa301cd30>"
      ]
     },
     "metadata": {},
     "output_type": "display_data"
    }
   ],
   "source": [
    "plt.scatter(y_column, z2)\n",
    "plt.xlabel('y')\n",
    "plt.ylabel('z2')\n",
    "plt.show()"
   ]
  },
  {
   "cell_type": "markdown",
   "metadata": {},
   "source": [
    "## Github\n",
    "\n",
    "After you have finished, we need to upload this notebook on github."
   ]
  },
  {
   "cell_type": "markdown",
   "metadata": {},
   "source": [
    "Instructions on how to upload this on github can be found [on this page](http://janboone.github.io/programming-for-economists/github.html). This page has two screencasts: one shows how to drag the notebook onto your github page, the other shows how you can use the command line to upload your notebook.\n"
   ]
  },
  {
   "cell_type": "markdown",
   "metadata": {},
   "source": [
    "Remember to update the README file in your repository to include a link to this notebook on github.\n",
    "\n",
    "\n",
    "The links that you should post start with “github.com/” and are NOT of the form “http://localhost”. Make sure you test your links after uploading."
   ]
  },
  {
   "cell_type": "code",
   "execution_count": null,
   "metadata": {},
   "outputs": [],
   "source": []
  }
 ],
 "metadata": {
  "anaconda-cloud": {},
  "kernelspec": {
   "display_name": "Python 3",
   "language": "python",
   "name": "python3"
  },
  "language_info": {
   "codemirror_mode": {
    "name": "ipython",
    "version": 3
   },
   "file_extension": ".py",
   "mimetype": "text/x-python",
   "name": "python",
   "nbconvert_exporter": "python",
   "pygments_lexer": "ipython3",
   "version": "3.6.4"
  }
 },
 "nbformat": 4,
 "nbformat_minor": 1
}
