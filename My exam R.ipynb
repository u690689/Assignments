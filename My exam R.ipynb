{
 "cells": [
  {
   "cell_type": "markdown",
   "metadata": {},
   "source": [
    "# Exam R\n",
    "Mark Klik & Misja Mikkers\n",
    "\n",
    "# Introduction\n",
    "\n",
    "Before you turn this problem in, make sure everything runs as expected. First, **restart the kernel** (in the menubar, select Kernel$\\rightarrow$Restart) and then **run all cells** (in the menubar, select Cell$\\rightarrow$Run All).\n",
    "\n",
    "Make sure you fill in any place that says `YOUR CODE HERE` or \"YOUR ANSWER HERE\", as well as your name and collaborators below:\n",
    "\n"
   ]
  },
  {
   "cell_type": "code",
   "execution_count": 60,
   "metadata": {},
   "outputs": [],
   "source": [
    "NAME = \"Viktorija Karaliute, student number:#u1277774#, ANR: 690689\"\n",
    "COLLABORATORS = \"\""
   ]
  },
  {
   "cell_type": "markdown",
   "metadata": {},
   "source": [
    "Fill in the cell above to provide us with your name and student number, like\n",
    "\n",
    "NAME = \"Adam Smith, #student number#\"\n",
    "\n",
    "where you replace \"#student number#\" with your ... (very good!)\n",
    "\n",
    "Unfortunately, you are not allowed to work with \"COLLABORATORS\" in this exam.\n",
    "\n",
    "## exam September 21th, 2018\n",
    "\n",
    "With this R part of the exam you can earn at max. 4 points.\n",
    "\n",
    "In the first cell of the notebook, give us your name and student number in the way indicated above.\n",
    "\n",
    "Fill in the notebook (see below for code cells and text cells that you need to fill in).\n",
    "\n",
    "If you look at the menus above (File, Edit, View etc.), there is one called \"Cell\". If you click on this, you can change the \"Cell Type\". Choose \"Code\" when you are typing python or R code. Choose \"Markdown\" when you are typing, well, markdown.\n",
    "\n",
    "When you finish the notebook, make sure that you save it with the output of your code included.\n",
    "\n",
    "Then put it on github, e.g. by dragging it onto github (see instructions below).\n",
    "\n",
    "Finally, add a link to your README file with the name of this exam: \"Exam R September 7, 2018\".\n",
    "\n",
    "# Packages\n",
    "\n",
    "You will need the following packages for this exam."
   ]
  },
  {
   "cell_type": "code",
   "execution_count": 61,
   "metadata": {},
   "outputs": [],
   "source": [
    "library(tidyverse)\n"
   ]
  },
  {
   "cell_type": "markdown",
   "metadata": {},
   "source": [
    "# Assignment 1\n",
    "\n",
    "## Data\n",
    "\n",
    "Please read in \"Medicaid.csv\" and check the structure.\n",
    "\n",
    "If needed change the variables Recipients and Total_costs into a numeric variable.\n",
    "\n",
    "Hint: don't forget you cannot change a factor in a numeric variable directly!\n",
    "\n"
   ]
  },
  {
   "cell_type": "code",
   "execution_count": 62,
   "metadata": {},
   "outputs": [],
   "source": [
    "Medicaid <- read.csv(\"C:/Users/Eigenaar/Desktop/Exam R/Medicaid.csv\", sep=\";\")"
   ]
  },
  {
   "cell_type": "code",
   "execution_count": 63,
   "metadata": {},
   "outputs": [
    {
     "name": "stderr",
     "output_type": "stream",
     "text": [
      "The following objects are masked from Medicaid (pos = 4):\n",
      "\n",
      "    Recipients, Total_costs, Year\n",
      "\n",
      "The following objects are masked from Medicaid (pos = 5):\n",
      "\n",
      "    Recipients, Total_costs, Year\n",
      "\n"
     ]
    }
   ],
   "source": [
    "attach(Medicaid)"
   ]
  },
  {
   "cell_type": "markdown",
   "metadata": {},
   "source": [
    "\n",
    "\n",
    "## New variable\n",
    "\n",
    "You will now have to make a new variable called \"Cost_per_Recipient\" by dividing the variable \"Total_Costs\" by the variable \"Recipients\". You will have to use the \"pipe-operator\". You have to show the \"head\" of the dataframe."
   ]
  },
  {
   "cell_type": "code",
   "execution_count": 64,
   "metadata": {},
   "outputs": [
    {
     "name": "stdout",
     "output_type": "stream",
     "text": [
      "'data.frame':\t13 obs. of  2 variables:\n",
      " $ Total_costs: num  3.61e+10 3.89e+10 4.08e+10 4.07e+10 4.21e+10 ...\n",
      " $ Recipients : int  4267573 4594667 4733617 4730167 4622782 4657242 4911408 5212444 5398722 5598237 ...\n"
     ]
    },
    {
     "data": {
      "text/html": [
       "<table>\n",
       "<thead><tr><th scope=col>Total_costs</th><th scope=col>Recipients</th></tr></thead>\n",
       "<tbody>\n",
       "\t<tr><td>36142075737</td><td>4267573    </td></tr>\n",
       "\t<tr><td>38926018824</td><td>4594667    </td></tr>\n",
       "\t<tr><td>40803778540</td><td>4733617    </td></tr>\n",
       "\t<tr><td>40712547369</td><td>4730167    </td></tr>\n",
       "\t<tr><td>42127412366</td><td>4622782    </td></tr>\n",
       "\t<tr><td>44239141758</td><td>4657242    </td></tr>\n",
       "</tbody>\n",
       "</table>\n"
      ],
      "text/latex": [
       "\\begin{tabular}{r|ll}\n",
       " Total\\_costs & Recipients\\\\\n",
       "\\hline\n",
       "\t 36142075737 & 4267573    \\\\\n",
       "\t 38926018824 & 4594667    \\\\\n",
       "\t 40803778540 & 4733617    \\\\\n",
       "\t 40712547369 & 4730167    \\\\\n",
       "\t 42127412366 & 4622782    \\\\\n",
       "\t 44239141758 & 4657242    \\\\\n",
       "\\end{tabular}\n"
      ],
      "text/markdown": [
       "\n",
       "Total_costs | Recipients | \n",
       "|---|---|---|---|---|---|\n",
       "| 36142075737 | 4267573     | \n",
       "| 38926018824 | 4594667     | \n",
       "| 40803778540 | 4733617     | \n",
       "| 40712547369 | 4730167     | \n",
       "| 42127412366 | 4622782     | \n",
       "| 44239141758 | 4657242     | \n",
       "\n",
       "\n"
      ],
      "text/plain": [
       "  Total_costs Recipients\n",
       "1 36142075737 4267573   \n",
       "2 38926018824 4594667   \n",
       "3 40803778540 4733617   \n",
       "4 40712547369 4730167   \n",
       "5 42127412366 4622782   \n",
       "6 44239141758 4657242   "
      ]
     },
     "metadata": {},
     "output_type": "display_data"
    },
    {
     "data": {
      "text/html": [
       "<ol class=list-inline>\n",
       "\t<li>8469</li>\n",
       "\t<li>8472</li>\n",
       "\t<li>8620</li>\n",
       "\t<li>8607</li>\n",
       "\t<li>9113</li>\n",
       "\t<li>9499</li>\n",
       "\t<li>9574</li>\n",
       "\t<li>9443</li>\n",
       "\t<li>9257</li>\n",
       "\t<li>8884</li>\n",
       "\t<li>8520</li>\n",
       "\t<li>8312</li>\n",
       "\t<li>8305</li>\n",
       "</ol>\n"
      ],
      "text/latex": [
       "\\begin{enumerate*}\n",
       "\\item 8469\n",
       "\\item 8472\n",
       "\\item 8620\n",
       "\\item 8607\n",
       "\\item 9113\n",
       "\\item 9499\n",
       "\\item 9574\n",
       "\\item 9443\n",
       "\\item 9257\n",
       "\\item 8884\n",
       "\\item 8520\n",
       "\\item 8312\n",
       "\\item 8305\n",
       "\\end{enumerate*}\n"
      ],
      "text/markdown": [
       "1. 8469\n",
       "2. 8472\n",
       "3. 8620\n",
       "4. 8607\n",
       "5. 9113\n",
       "6. 9499\n",
       "7. 9574\n",
       "8. 9443\n",
       "9. 9257\n",
       "10. 8884\n",
       "11. 8520\n",
       "12. 8312\n",
       "13. 8305\n",
       "\n",
       "\n"
      ],
      "text/plain": [
       " [1] 8469 8472 8620 8607 9113 9499 9574 9443 9257 8884 8520 8312 8305"
      ]
     },
     "metadata": {},
     "output_type": "display_data"
    },
    {
     "data": {
      "text/html": [
       "<table>\n",
       "<thead><tr><th scope=col>Total_costs</th><th scope=col>Recipients</th><th scope=col>Cost_per_Recipient</th><th scope=col>Year</th></tr></thead>\n",
       "<tbody>\n",
       "\t<tr><td>36142075737</td><td>4267573    </td><td>8469       </td><td>2003       </td></tr>\n",
       "\t<tr><td>38926018824</td><td>4594667    </td><td>8472       </td><td>2004       </td></tr>\n",
       "\t<tr><td>40803778540</td><td>4733617    </td><td>8620       </td><td>2005       </td></tr>\n",
       "\t<tr><td>40712547369</td><td>4730167    </td><td>8607       </td><td>2006       </td></tr>\n",
       "\t<tr><td>42127412366</td><td>4622782    </td><td>9113       </td><td>2007       </td></tr>\n",
       "\t<tr><td>44239141758</td><td>4657242    </td><td>9499       </td><td>2008       </td></tr>\n",
       "\t<tr><td>47021820192</td><td>4911408    </td><td>9574       </td><td>2009       </td></tr>\n",
       "\t<tr><td>49221108692</td><td>5212444    </td><td>9443       </td><td>2010       </td></tr>\n",
       "\t<tr><td>49975969554</td><td>5398722    </td><td>9257       </td><td>2011       </td></tr>\n",
       "\t<tr><td>49734737508</td><td>5598237    </td><td>8884       </td><td>2012       </td></tr>\n",
       "\t<tr><td>49461002640</td><td>5805282    </td><td>8520       </td><td>2013       </td></tr>\n",
       "\t<tr><td>52595908896</td><td>6327708    </td><td>8312       </td><td>2014       </td></tr>\n",
       "\t<tr><td>55647851820</td><td>6700524    </td><td>8305       </td><td>2015       </td></tr>\n",
       "</tbody>\n",
       "</table>\n"
      ],
      "text/latex": [
       "\\begin{tabular}{r|llll}\n",
       " Total\\_costs & Recipients & Cost\\_per\\_Recipient & Year\\\\\n",
       "\\hline\n",
       "\t 36142075737 & 4267573     & 8469        & 2003       \\\\\n",
       "\t 38926018824 & 4594667     & 8472        & 2004       \\\\\n",
       "\t 40803778540 & 4733617     & 8620        & 2005       \\\\\n",
       "\t 40712547369 & 4730167     & 8607        & 2006       \\\\\n",
       "\t 42127412366 & 4622782     & 9113        & 2007       \\\\\n",
       "\t 44239141758 & 4657242     & 9499        & 2008       \\\\\n",
       "\t 47021820192 & 4911408     & 9574        & 2009       \\\\\n",
       "\t 49221108692 & 5212444     & 9443        & 2010       \\\\\n",
       "\t 49975969554 & 5398722     & 9257        & 2011       \\\\\n",
       "\t 49734737508 & 5598237     & 8884        & 2012       \\\\\n",
       "\t 49461002640 & 5805282     & 8520        & 2013       \\\\\n",
       "\t 52595908896 & 6327708     & 8312        & 2014       \\\\\n",
       "\t 55647851820 & 6700524     & 8305        & 2015       \\\\\n",
       "\\end{tabular}\n"
      ],
      "text/markdown": [
       "\n",
       "Total_costs | Recipients | Cost_per_Recipient | Year | \n",
       "|---|---|---|---|---|---|---|---|---|---|---|---|---|\n",
       "| 36142075737 | 4267573     | 8469        | 2003        | \n",
       "| 38926018824 | 4594667     | 8472        | 2004        | \n",
       "| 40803778540 | 4733617     | 8620        | 2005        | \n",
       "| 40712547369 | 4730167     | 8607        | 2006        | \n",
       "| 42127412366 | 4622782     | 9113        | 2007        | \n",
       "| 44239141758 | 4657242     | 9499        | 2008        | \n",
       "| 47021820192 | 4911408     | 9574        | 2009        | \n",
       "| 49221108692 | 5212444     | 9443        | 2010        | \n",
       "| 49975969554 | 5398722     | 9257        | 2011        | \n",
       "| 49734737508 | 5598237     | 8884        | 2012        | \n",
       "| 49461002640 | 5805282     | 8520        | 2013        | \n",
       "| 52595908896 | 6327708     | 8312        | 2014        | \n",
       "| 55647851820 | 6700524     | 8305        | 2015        | \n",
       "\n",
       "\n"
      ],
      "text/plain": [
       "   Total_costs Recipients Cost_per_Recipient Year\n",
       "1  36142075737 4267573    8469               2003\n",
       "2  38926018824 4594667    8472               2004\n",
       "3  40803778540 4733617    8620               2005\n",
       "4  40712547369 4730167    8607               2006\n",
       "5  42127412366 4622782    9113               2007\n",
       "6  44239141758 4657242    9499               2008\n",
       "7  47021820192 4911408    9574               2009\n",
       "8  49221108692 5212444    9443               2010\n",
       "9  49975969554 5398722    9257               2011\n",
       "10 49734737508 5598237    8884               2012\n",
       "11 49461002640 5805282    8520               2013\n",
       "12 52595908896 6327708    8312               2014\n",
       "13 55647851820 6700524    8305               2015"
      ]
     },
     "metadata": {},
     "output_type": "display_data"
    }
   ],
   "source": [
    "df <- data.frame(Total_costs, Recipients)\n",
    "str(df)\n",
    "head(df)\n",
    "\n",
    "Cost_per_Recipient <- Total_costs/Recipients\n",
    "Cost_per_Recipient\n",
    "\n",
    "df_full <- cbind(df, Cost_per_Recipient, Year)\n",
    "df_full"
   ]
  },
  {
   "cell_type": "markdown",
   "metadata": {},
   "source": [
    "## Plot 1\n",
    "\n",
    "Now you have to make a line plot of the data:\n",
    "\n",
    "* with Year on the x-axis\n",
    "* Cost_per_Recipient on the y-axis\n",
    "* The line should have size 3 and the color \"red\"\n",
    "* The name on the Y axis should be \"Cost per enrollee\"\n",
    "\n",
    "\n"
   ]
  },
  {
   "cell_type": "code",
   "execution_count": 65,
   "metadata": {},
   "outputs": [
    {
     "data": {
      "text/plain": [
       "NULL"
      ]
     },
     "metadata": {},
     "output_type": "display_data"
    },
    {
     "data": {
      "image/png": "[encoded data removed]",
      "text/plain": [
       "plot without title"
      ]
     },
     "metadata": {},
     "output_type": "display_data"
    }
   ],
   "source": [
    "plot1 <- plot(Year, Cost_per_Recipient, \n",
    "             ylab='Cost per enrollee', type='o', col='red', lty=3)\n",
    "plot1\n",
    "\n"
   ]
  },
  {
   "cell_type": "markdown",
   "metadata": {},
   "source": [
    "End of notebook"
   ]
  },
  {
   "cell_type": "code",
   "execution_count": null,
   "metadata": {},
   "outputs": [],
   "source": []
  },
  {
   "cell_type": "code",
   "execution_count": null,
   "metadata": {},
   "outputs": [],
   "source": []
  }
 ],
 "metadata": {
  "anaconda-cloud": {},
  "kernelspec": {
   "display_name": "R",
   "language": "R",
   "name": "ir"
  },
  "language_info": {
   "codemirror_mode": "r",
   "file_extension": ".r",
   "mimetype": "text/x-r-source",
   "name": "R",
   "pygments_lexer": "r",
   "version": "3.5.0"
  }
 },
 "nbformat": 4,
 "nbformat_minor": 1
}
